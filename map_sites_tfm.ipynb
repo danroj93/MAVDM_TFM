{
 "cells": [
  {
   "cell_type": "markdown",
   "id": "59c94161",
   "metadata": {},
   "source": [
    "# Representacion geoespacial"
   ]
  },
  {
   "cell_type": "markdown",
   "id": "6e1b4d8b",
   "metadata": {},
   "source": [
    "## Carga de librerias"
   ]
  },
  {
   "cell_type": "code",
   "execution_count": 2,
   "id": "248085a3",
   "metadata": {},
   "outputs": [],
   "source": [
    "import folium\n",
    "from geopy import distance"
   ]
  },
  {
   "cell_type": "markdown",
   "id": "21fbb70d",
   "metadata": {},
   "source": [
    "## Crear mapa"
   ]
  },
  {
   "cell_type": "code",
   "execution_count": 3,
   "id": "da68d827",
   "metadata": {},
   "outputs": [],
   "source": [
    "def plot_perimeter(points):\n",
    "   \n",
    "    # Crear un mapa centrado en las coordenadas del punto central\n",
    "    map_perimeter = folium.Map(location=points[0]['coordinates'], zoom_start=14)\n",
    "\n",
    "    # Dibujar el punto central\n",
    "    for point in points:\n",
    "        folium.Marker(point['coordinates'], popup=point['name'], icon=folium.Icon(color='red')).add_to(map_perimeter)\n",
    "\n",
    "        # Crear un círculo alrededor del punto central\n",
    "        folium.Circle(point['coordinates'], radius=point['radius']*1000, color='yellow', opacity=0.2, fill=True, fill_opacity=0.2).add_to(map_perimeter)\n",
    "\n",
    "    # Mostrar el mapa\n",
    "    return map_perimeter\n",
    "\n",
    "# Dataset con puntos y nombres\n",
    "points_data = [\n",
    "    {'name': 'OAKLAND MALL', 'latitude': 14.59853, 'longitude': -90.50769, 'radius': 5},\n",
    "    {'name': 'ESKALA R', 'latitude': 14.636888, 'longitude': -90.582347, 'radius': 5},\n",
    "    {'name': 'EL FRUTAL', 'latitude': 14.521307, 'longitude': -90.564254, 'radius': 5}\n",
    "]\n",
    "\n",
    "# Convertir los datos en una lista de diccionarios con las coordenadas del punto\n",
    "points = []\n",
    "for data in points_data:\n",
    "    point = {\n",
    "        'name': data['name'],\n",
    "        'coordinates': (data['latitude'], data['longitude']),\n",
    "        'radius': data['radius']\n",
    "    }\n",
    "    points.append(point)\n",
    "\n",
    "# Graficar el perímetro\n",
    "perimeter_map = plot_perimeter(points)\n",
    "\n",
    "# Guardar el mapa como un archivo HTML\n",
    "perimeter_map.save('map_sites.html')"
   ]
  },
  {
   "cell_type": "code",
   "execution_count": null,
   "id": "c2c7b831",
   "metadata": {},
   "outputs": [],
   "source": []
  }
 ],
 "metadata": {
  "kernelspec": {
   "display_name": "Python 3 (ipykernel)",
   "language": "python",
   "name": "python3"
  },
  "language_info": {
   "codemirror_mode": {
    "name": "ipython",
    "version": 3
   },
   "file_extension": ".py",
   "mimetype": "text/x-python",
   "name": "python",
   "nbconvert_exporter": "python",
   "pygments_lexer": "ipython3",
   "version": "3.9.12"
  }
 },
 "nbformat": 4,
 "nbformat_minor": 5
}
